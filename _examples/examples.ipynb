{
 "cells": [
  {
   "cell_type": "markdown",
   "metadata": {},
   "source": [
    "### First, we need to import the GitbaseSessionBuilder and create a session"
   ]
  },
  {
   "cell_type": "code",
   "execution_count": null,
   "metadata": {},
   "outputs": [],
   "source": [
    "import tech.sourced.gitbase.spark.GitbaseSessionBuilder\n",
    "\n",
    "val spark = SparkSession.builder().appName(\"example\")\n",
    "    .master(\"local[*]\")\n",
    "    .config(\"spark.driver.host\", \"localhost\")\n",
    "    .registerGitbaseSource(\"gitbase:3306\")\n",
    "    .getOrCreate()"
   ]
  },
  {
   "cell_type": "markdown",
   "metadata": {},
   "source": [
    "### Get all repositories"
   ]
  },
  {
   "cell_type": "code",
   "execution_count": 5,
   "metadata": {},
   "outputs": [
    {
     "name": "stdout",
     "output_type": "stream",
     "text": [
      "+-----------------------+\n",
      "|repository_id          |\n",
      "+-----------------------+\n",
      "|gitbase                |\n",
      "|gitbase-spark-connector|\n",
      "+-----------------------+\n",
      "\n"
     ]
    }
   ],
   "source": [
    "spark.sql(\"SELECT * FROM repositories\").show()"
   ]
  },
  {
   "cell_type": "markdown",
   "metadata": {},
   "source": [
    "### Get HEAD references of repositories"
   ]
  },
  {
   "cell_type": "code",
   "execution_count": 8,
   "metadata": {},
   "outputs": [
    {
     "name": "stdout",
     "output_type": "stream",
     "text": [
      "+-----------------------+--------+----------------------------------------+\n",
      "|repository_id          |ref_name|commit_hash                             |\n",
      "+-----------------------+--------+----------------------------------------+\n",
      "|gitbase-spark-connector|HEAD    |d9c0363978f5c869022dcf3266fd88fb2268c35a|\n",
      "|gitbase                |HEAD    |38168fb16f0bf05286c631d4700272e92560f55a|\n",
      "+-----------------------+--------+----------------------------------------+\n",
      "\n"
     ]
    }
   ],
   "source": [
    "spark.sql(\"SELECT * FROM refs WHERE ref_name = 'HEAD'\").show(truncate=false)"
   ]
  },
  {
   "cell_type": "markdown",
   "metadata": {},
   "source": [
    "### Get all the repositories where a specific user contributes on HEAD reference"
   ]
  },
  {
   "cell_type": "code",
   "execution_count": 10,
   "metadata": {},
   "outputs": [
    {
     "name": "stdout",
     "output_type": "stream",
     "text": [
      "+-------------+\n",
      "|repository_id|\n",
      "+-------------+\n",
      "|      gitbase|\n",
      "+-------------+\n",
      "\n"
     ]
    }
   ],
   "source": [
    "spark.sql(\"\"\"SELECT refs.repository_id\n",
    "FROM refs\n",
    "NATURAL JOIN commits\n",
    "WHERE\n",
    "    commits.commit_author_name = 'Javi Fontan'\n",
    "    AND refs.ref_name = 'HEAD'\"\"\").show()"
   ]
  },
  {
   "cell_type": "markdown",
   "metadata": {},
   "source": [
    "### First commit on HEAD history for all repositories"
   ]
  },
  {
   "cell_type": "code",
   "execution_count": 13,
   "metadata": {},
   "outputs": [
    {
     "name": "stdout",
     "output_type": "stream",
     "text": [
      "+------------------------------------------------------------------+-----------------------+\n",
      "|file_path                                                         |repository_id          |\n",
      "+------------------------------------------------------------------+-----------------------+\n",
      "|.gitignore                                                        |gitbase-spark-connector|\n",
      "|.travis.yml                                                       |gitbase-spark-connector|\n",
      "|Dockerfile                                                        |gitbase-spark-connector|\n",
      "|LICENSE                                                           |gitbase-spark-connector|\n",
      "|README.md                                                         |gitbase-spark-connector|\n",
      "|build.sbt                                                         |gitbase-spark-connector|\n",
      "|project/Dependencies.scala                                        |gitbase-spark-connector|\n",
      "|project/build.properties                                          |gitbase-spark-connector|\n",
      "|project/plugins.sbt                                               |gitbase-spark-connector|\n",
      "|sbt                                                               |gitbase-spark-connector|\n",
      "|scalastyle-config.xml                                             |gitbase-spark-connector|\n",
      "|src/main/scala/tech/sourced/gitbase/spark/DefaultSource.scala     |gitbase-spark-connector|\n",
      "|src/main/scala/tech/sourced/gitbase/spark/Gitbase.scala           |gitbase-spark-connector|\n",
      "|src/main/scala/tech/sourced/gitbase/spark/QueryBuilder.scala      |gitbase-spark-connector|\n",
      "|src/main/scala/tech/sourced/gitbase/spark/Sources.scala           |gitbase-spark-connector|\n",
      "|src/main/scala/tech/sourced/gitbase/spark/rule/AddSource.scala    |gitbase-spark-connector|\n",
      "|src/main/scala/tech/sourced/gitbase/spark/rule/PushdownJoins.scala|gitbase-spark-connector|\n",
      "|src/main/scala/tech/sourced/gitbase/spark/rule/package.scala      |gitbase-spark-connector|\n",
      "|src/main/scala/tech/sourced/gitbase/spark/udf/BblfshUtils.scala   |gitbase-spark-connector|\n",
      "|src/main/scala/tech/sourced/gitbase/spark/udf/CustomUDF.scala     |gitbase-spark-connector|\n",
      "+------------------------------------------------------------------+-----------------------+\n",
      "only showing top 20 rows\n",
      "\n"
     ]
    }
   ],
   "source": [
    "spark.sql(\"\"\"SELECT\n",
    "    f.file_path,\n",
    "    f.repository_id\n",
    "FROM\n",
    "    commit_files f\n",
    "NATURAL JOIN\n",
    "    ref_commits r\n",
    "WHERE\n",
    "    r.ref_name = 'HEAD'\n",
    "    AND r.history_index = 0\"\"\").show(truncate=false)"
   ]
  },
  {
   "cell_type": "markdown",
   "metadata": {},
   "source": [
    "### Get the number of blobs per HEAD commit"
   ]
  },
  {
   "cell_type": "code",
   "execution_count": 24,
   "metadata": {},
   "outputs": [
    {
     "name": "stdout",
     "output_type": "stream",
     "text": [
      "+------------------+----------------------------------------+\n",
      "|count(commit_hash)|commit_hash                             |\n",
      "+------------------+----------------------------------------+\n",
      "|33                |478a42cd2a28b12ae3dbded699b02b39c12ebbc2|\n",
      "|35                |63f9df67185e23387adcb41b7915cc3c738ac88d|\n",
      "|2448              |15324804bfc5c8f788a400ee8d060a9841f7cd29|\n",
      "|3586              |b31a60153f1bc36fa322c8ff684393733cb629f3|\n",
      "|5919              |579894afe27ff6e2fc28b2fb63f1e34a272b6384|\n",
      "|41                |2a41599d9cf2838636b82f5fe2fc89ea177f803a|\n",
      "|2446              |9e3dd760bdf2f0bc54c3f45a0952ea80e72a75b2|\n",
      "|6661              |8bd1d81a17625e1b4a537199151abcac20401407|\n",
      "|4820              |a51b92224b79589a9015e4edb5b9f7dea974a6ac|\n",
      "|5478              |c52fcf58ea0a4b3b5e0cfe0dbbe99c70f1dfa9a4|\n",
      "|6256              |9259869628f1f54be6df34bafe3bc6a52796ec2e|\n",
      "|4543              |d3db798e7f0ce18ea18cf532ee8a50e1cc7542bf|\n",
      "|6609              |9ac9f0bb55a1fc806bc39f8d3bdff9d3c1927f8f|\n",
      "|64                |a23d4c866ed48de2cd64ca2082ccd6866eb61f3c|\n",
      "|33                |267e7bb609eb94b998a9b7fc64c88aa2cce6c297|\n",
      "|4788              |1b58c30b9f194c0aa8d1063e41907adde3ee4edd|\n",
      "|5478              |eae22589c7942d46d1405e97a5a0619ca8100cf8|\n",
      "|6379              |50f35c07ecd2a35dbe0a676d0fb5621ebd594b4a|\n",
      "|4786              |fde310ebddfc06a74294d048d6d43ffe9ea79db0|\n",
      "|11                |13f6ae66d4facfb3339c7ae0ddeba9956a088e47|\n",
      "+------------------+----------------------------------------+\n",
      "only showing top 20 rows\n",
      "\n"
     ]
    }
   ],
   "source": [
    "spark.sql(\"\"\"SELECT COUNT(commit_hash), commit_hash\n",
    "FROM ref_commits as\n",
    "NATURAL JOIN commits\n",
    "NATURAL JOIN commit_blobs\n",
    "WHERE ref_name = 'HEAD'\n",
    "GROUP BY commit_hash\"\"\").show(truncate=false)"
   ]
  },
  {
   "cell_type": "markdown",
   "metadata": {},
   "source": [
    "### Get commits per committer, per month in 2018"
   ]
  },
  {
   "cell_type": "code",
   "execution_count": 23,
   "metadata": {},
   "outputs": [
    {
     "name": "stdout",
     "output_type": "stream",
     "text": [
      "+-----------+-----+-----------------------+-------------------------------+\n",
      "|num_commits|month|repo_id                |committer_email                |\n",
      "+-----------+-----+-----------------------+-------------------------------+\n",
      "|10         |9    |gitbase                |manu.carmona90@gmail.com       |\n",
      "|4          |4    |gitbase                |manu.carmona90@gmail.com       |\n",
      "|6          |10   |gitbase                |kuba@sourced.tech              |\n",
      "|1          |10   |gitbase-spark-connector|coolakshat24@gmail.com         |\n",
      "|14         |8    |gitbase                |manu.carmona90@gmail.com       |\n",
      "|4          |5    |gitbase                |miguel@erizocosmi.co           |\n",
      "|25         |7    |gitbase                |miguel@erizocosmi.co           |\n",
      "|1          |4    |gitbase                |santi@mola.io                  |\n",
      "|6          |5    |gitbase                |manu.carmona90@gmail.com       |\n",
      "|9          |7    |gitbase                |jfontan@gmail.com              |\n",
      "|4          |10   |gitbase                |soumyacool2012@gmail.com       |\n",
      "|1          |10   |gitbase                |bake@192k.pw                   |\n",
      "|7          |7    |gitbase                |manu.carmona90@gmail.com       |\n",
      "|4          |5    |gitbase                |jfontan@gmail.com              |\n",
      "|28         |3    |gitbase                |noreply@github.com             |\n",
      "|1          |10   |gitbase                |dare.czajkowski@gmail.com      |\n",
      "|1          |7    |gitbase                |carlos.martin.sanchez@gmail.com|\n",
      "|13         |3    |gitbase                |jfontan@gmail.com              |\n",
      "|10         |4    |gitbase                |jfontan@gmail.com              |\n",
      "|3          |10   |gitbase                |quasilyte@gmail.com            |\n",
      "+-----------+-----+-----------------------+-------------------------------+\n",
      "only showing top 20 rows\n",
      "\n"
     ]
    },
    {
     "data": {
      "text/plain": [
       "lastException: Throwable = null\n"
      ]
     },
     "metadata": {},
     "output_type": "display_data"
    }
   ],
   "source": [
    "spark.sql(\"\"\"SELECT COUNT(*) as num_commits, month, repo_id, committer_email\n",
    "FROM (\n",
    "    SELECT\n",
    "        MONTH(committer_when) as month,\n",
    "        r.repository_id as repo_id,\n",
    "        committer_email\n",
    "    FROM ref_commits r\n",
    "    INNER JOIN commits c\n",
    "        ON YEAR(c.committer_when) = 2018\n",
    "        AND r.repository_id = c.repository_id\n",
    "        AND r.commit_hash = c.commit_hash\n",
    "    WHERE r.ref_name = 'HEAD'\n",
    ") as t\n",
    "GROUP BY committer_email, month, repo_id\"\"\").show(truncate=false)"
   ]
  }
 ],
 "metadata": {
  "kernelspec": {
   "display_name": "Apache Toree - Scala",
   "language": "scala",
   "name": "apache_toree_scala"
  },
  "language_info": {
   "codemirror_mode": "text/x-scala",
   "file_extension": ".scala",
   "mimetype": "text/x-scala",
   "name": "scala",
   "pygments_lexer": "scala",
   "version": "2.11.8"
  }
 },
 "nbformat": 4,
 "nbformat_minor": 2
}
